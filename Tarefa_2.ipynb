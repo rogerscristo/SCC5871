{
 "cells": [
  {
   "cell_type": "code",
   "execution_count": 1,
   "metadata": {},
   "outputs": [],
   "source": [
    "import os\n",
    "import pandas as pd\n",
    "import numpy as np\n",
    "from sklearn.preprocessing import MinMaxScaler\n",
    "from sklearn.model_selection import GridSearchCV, cross_validate, cross_val_score, train_test_split\n",
    "from sklearn.linear_model import Perceptron\n",
    "from sklearn.neural_network import MLPClassifier\n",
    "from sklearn.svm import SVC\n",
    "from sklearn.metrics import accuracy_score, precision_score, recall_score, f1_score\n",
    "\n",
    "import warnings\n",
    "warnings.filterwarnings(\"ignore\")"
   ]
  },
  {
   "cell_type": "markdown",
   "metadata": {},
   "source": [
    "### Data Cleaning"
   ]
  },
  {
   "cell_type": "code",
   "execution_count": 22,
   "metadata": {},
   "outputs": [],
   "source": [
    "iris = pd.read_csv(os.path.join('Dados', 'iris', 'iris.csv'))\n",
    "glass = pd.read_csv(os.path.join('Dados', 'glass', 'glass.csv'))"
   ]
  },
  {
   "cell_type": "code",
   "execution_count": 23,
   "metadata": {},
   "outputs": [
    {
     "data": {
      "text/html": [
       "<div>\n",
       "<style scoped>\n",
       "    .dataframe tbody tr th:only-of-type {\n",
       "        vertical-align: middle;\n",
       "    }\n",
       "\n",
       "    .dataframe tbody tr th {\n",
       "        vertical-align: top;\n",
       "    }\n",
       "\n",
       "    .dataframe thead th {\n",
       "        text-align: right;\n",
       "    }\n",
       "</style>\n",
       "<table border=\"1\" class=\"dataframe\">\n",
       "  <thead>\n",
       "    <tr style=\"text-align: right;\">\n",
       "      <th></th>\n",
       "      <th>sepal_length</th>\n",
       "      <th>sepal_width</th>\n",
       "      <th>petal_length</th>\n",
       "      <th>petal_width</th>\n",
       "      <th>species</th>\n",
       "    </tr>\n",
       "  </thead>\n",
       "  <tbody>\n",
       "    <tr>\n",
       "      <th>0</th>\n",
       "      <td>5.1</td>\n",
       "      <td>3.5</td>\n",
       "      <td>1.4</td>\n",
       "      <td>0.2</td>\n",
       "      <td>setosa</td>\n",
       "    </tr>\n",
       "    <tr>\n",
       "      <th>1</th>\n",
       "      <td>4.9</td>\n",
       "      <td>3.0</td>\n",
       "      <td>1.4</td>\n",
       "      <td>0.2</td>\n",
       "      <td>setosa</td>\n",
       "    </tr>\n",
       "    <tr>\n",
       "      <th>2</th>\n",
       "      <td>4.7</td>\n",
       "      <td>3.2</td>\n",
       "      <td>1.3</td>\n",
       "      <td>0.2</td>\n",
       "      <td>setosa</td>\n",
       "    </tr>\n",
       "    <tr>\n",
       "      <th>3</th>\n",
       "      <td>4.6</td>\n",
       "      <td>3.1</td>\n",
       "      <td>1.5</td>\n",
       "      <td>0.2</td>\n",
       "      <td>setosa</td>\n",
       "    </tr>\n",
       "    <tr>\n",
       "      <th>4</th>\n",
       "      <td>5.0</td>\n",
       "      <td>3.6</td>\n",
       "      <td>1.4</td>\n",
       "      <td>0.2</td>\n",
       "      <td>setosa</td>\n",
       "    </tr>\n",
       "  </tbody>\n",
       "</table>\n",
       "</div>"
      ],
      "text/plain": [
       "   sepal_length  sepal_width  petal_length  petal_width species\n",
       "0           5.1          3.5           1.4          0.2  setosa\n",
       "1           4.9          3.0           1.4          0.2  setosa\n",
       "2           4.7          3.2           1.3          0.2  setosa\n",
       "3           4.6          3.1           1.5          0.2  setosa\n",
       "4           5.0          3.6           1.4          0.2  setosa"
      ]
     },
     "execution_count": 23,
     "metadata": {},
     "output_type": "execute_result"
    }
   ],
   "source": [
    "iris.head()"
   ]
  },
  {
   "cell_type": "code",
   "execution_count": 24,
   "metadata": {},
   "outputs": [],
   "source": [
    "iris_species = iris.species"
   ]
  },
  {
   "cell_type": "code",
   "execution_count": 25,
   "metadata": {},
   "outputs": [],
   "source": [
    "iris = iris.drop(columns='species')"
   ]
  },
  {
   "cell_type": "code",
   "execution_count": 69,
   "metadata": {},
   "outputs": [],
   "source": [
    "iris_train, iris_test, iris_species_train, iris_species_test = train_test_split(iris, iris_species, test_size=0.33, random_state=42)"
   ]
  },
  {
   "cell_type": "code",
   "execution_count": 59,
   "metadata": {},
   "outputs": [
    {
     "data": {
      "text/html": [
       "<div>\n",
       "<style scoped>\n",
       "    .dataframe tbody tr th:only-of-type {\n",
       "        vertical-align: middle;\n",
       "    }\n",
       "\n",
       "    .dataframe tbody tr th {\n",
       "        vertical-align: top;\n",
       "    }\n",
       "\n",
       "    .dataframe thead th {\n",
       "        text-align: right;\n",
       "    }\n",
       "</style>\n",
       "<table border=\"1\" class=\"dataframe\">\n",
       "  <thead>\n",
       "    <tr style=\"text-align: right;\">\n",
       "      <th></th>\n",
       "      <th>index</th>\n",
       "      <th>sepal_length</th>\n",
       "      <th>sepal_width</th>\n",
       "      <th>petal_length</th>\n",
       "      <th>petal_width</th>\n",
       "    </tr>\n",
       "  </thead>\n",
       "  <tbody>\n",
       "    <tr>\n",
       "      <th>0</th>\n",
       "      <td>96</td>\n",
       "      <td>5.7</td>\n",
       "      <td>2.9</td>\n",
       "      <td>4.2</td>\n",
       "      <td>1.3</td>\n",
       "    </tr>\n",
       "    <tr>\n",
       "      <th>1</th>\n",
       "      <td>105</td>\n",
       "      <td>7.6</td>\n",
       "      <td>3.0</td>\n",
       "      <td>6.6</td>\n",
       "      <td>2.1</td>\n",
       "    </tr>\n",
       "    <tr>\n",
       "      <th>2</th>\n",
       "      <td>66</td>\n",
       "      <td>5.6</td>\n",
       "      <td>3.0</td>\n",
       "      <td>4.5</td>\n",
       "      <td>1.5</td>\n",
       "    </tr>\n",
       "    <tr>\n",
       "      <th>3</th>\n",
       "      <td>0</td>\n",
       "      <td>5.1</td>\n",
       "      <td>3.5</td>\n",
       "      <td>1.4</td>\n",
       "      <td>0.2</td>\n",
       "    </tr>\n",
       "    <tr>\n",
       "      <th>4</th>\n",
       "      <td>122</td>\n",
       "      <td>7.7</td>\n",
       "      <td>2.8</td>\n",
       "      <td>6.7</td>\n",
       "      <td>2.0</td>\n",
       "    </tr>\n",
       "  </tbody>\n",
       "</table>\n",
       "</div>"
      ],
      "text/plain": [
       "   index  sepal_length  sepal_width  petal_length  petal_width\n",
       "0     96           5.7          2.9           4.2          1.3\n",
       "1    105           7.6          3.0           6.6          2.1\n",
       "2     66           5.6          3.0           4.5          1.5\n",
       "3      0           5.1          3.5           1.4          0.2\n",
       "4    122           7.7          2.8           6.7          2.0"
      ]
     },
     "execution_count": 59,
     "metadata": {},
     "output_type": "execute_result"
    }
   ],
   "source": [
    "iris_train.head()"
   ]
  },
  {
   "cell_type": "code",
   "execution_count": 28,
   "metadata": {},
   "outputs": [
    {
     "data": {
      "text/html": [
       "<div>\n",
       "<style scoped>\n",
       "    .dataframe tbody tr th:only-of-type {\n",
       "        vertical-align: middle;\n",
       "    }\n",
       "\n",
       "    .dataframe tbody tr th {\n",
       "        vertical-align: top;\n",
       "    }\n",
       "\n",
       "    .dataframe thead th {\n",
       "        text-align: right;\n",
       "    }\n",
       "</style>\n",
       "<table border=\"1\" class=\"dataframe\">\n",
       "  <thead>\n",
       "    <tr style=\"text-align: right;\">\n",
       "      <th></th>\n",
       "      <th>RI</th>\n",
       "      <th>Na</th>\n",
       "      <th>Mg</th>\n",
       "      <th>Al</th>\n",
       "      <th>Si</th>\n",
       "      <th>K</th>\n",
       "      <th>Ca</th>\n",
       "      <th>Ba</th>\n",
       "      <th>Fe</th>\n",
       "      <th>Type</th>\n",
       "    </tr>\n",
       "  </thead>\n",
       "  <tbody>\n",
       "    <tr>\n",
       "      <th>0</th>\n",
       "      <td>1.52101</td>\n",
       "      <td>13.64</td>\n",
       "      <td>4.49</td>\n",
       "      <td>1.10</td>\n",
       "      <td>71.78</td>\n",
       "      <td>0.06</td>\n",
       "      <td>8.75</td>\n",
       "      <td>0.0</td>\n",
       "      <td>0.0</td>\n",
       "      <td>1</td>\n",
       "    </tr>\n",
       "    <tr>\n",
       "      <th>1</th>\n",
       "      <td>1.51761</td>\n",
       "      <td>13.89</td>\n",
       "      <td>3.60</td>\n",
       "      <td>1.36</td>\n",
       "      <td>72.73</td>\n",
       "      <td>0.48</td>\n",
       "      <td>7.83</td>\n",
       "      <td>0.0</td>\n",
       "      <td>0.0</td>\n",
       "      <td>1</td>\n",
       "    </tr>\n",
       "    <tr>\n",
       "      <th>2</th>\n",
       "      <td>1.51618</td>\n",
       "      <td>13.53</td>\n",
       "      <td>3.55</td>\n",
       "      <td>1.54</td>\n",
       "      <td>72.99</td>\n",
       "      <td>0.39</td>\n",
       "      <td>7.78</td>\n",
       "      <td>0.0</td>\n",
       "      <td>0.0</td>\n",
       "      <td>1</td>\n",
       "    </tr>\n",
       "    <tr>\n",
       "      <th>3</th>\n",
       "      <td>1.51766</td>\n",
       "      <td>13.21</td>\n",
       "      <td>3.69</td>\n",
       "      <td>1.29</td>\n",
       "      <td>72.61</td>\n",
       "      <td>0.57</td>\n",
       "      <td>8.22</td>\n",
       "      <td>0.0</td>\n",
       "      <td>0.0</td>\n",
       "      <td>1</td>\n",
       "    </tr>\n",
       "    <tr>\n",
       "      <th>4</th>\n",
       "      <td>1.51742</td>\n",
       "      <td>13.27</td>\n",
       "      <td>3.62</td>\n",
       "      <td>1.24</td>\n",
       "      <td>73.08</td>\n",
       "      <td>0.55</td>\n",
       "      <td>8.07</td>\n",
       "      <td>0.0</td>\n",
       "      <td>0.0</td>\n",
       "      <td>1</td>\n",
       "    </tr>\n",
       "  </tbody>\n",
       "</table>\n",
       "</div>"
      ],
      "text/plain": [
       "        RI     Na    Mg    Al     Si     K    Ca   Ba   Fe  Type\n",
       "0  1.52101  13.64  4.49  1.10  71.78  0.06  8.75  0.0  0.0     1\n",
       "1  1.51761  13.89  3.60  1.36  72.73  0.48  7.83  0.0  0.0     1\n",
       "2  1.51618  13.53  3.55  1.54  72.99  0.39  7.78  0.0  0.0     1\n",
       "3  1.51766  13.21  3.69  1.29  72.61  0.57  8.22  0.0  0.0     1\n",
       "4  1.51742  13.27  3.62  1.24  73.08  0.55  8.07  0.0  0.0     1"
      ]
     },
     "execution_count": 28,
     "metadata": {},
     "output_type": "execute_result"
    }
   ],
   "source": [
    "glass.head()"
   ]
  },
  {
   "cell_type": "code",
   "execution_count": 29,
   "metadata": {},
   "outputs": [],
   "source": [
    "glass_type = glass.Type\n",
    "glass = glass.drop(columns='Type')"
   ]
  },
  {
   "cell_type": "code",
   "execution_count": 68,
   "metadata": {},
   "outputs": [],
   "source": [
    "glass_train, glass_test, glass_type_train, glass_type_test = train_test_split(glass, glass_type, test_size=0.33, random_state=42)"
   ]
  },
  {
   "cell_type": "code",
   "execution_count": 31,
   "metadata": {},
   "outputs": [
    {
     "data": {
      "text/html": [
       "<div>\n",
       "<style scoped>\n",
       "    .dataframe tbody tr th:only-of-type {\n",
       "        vertical-align: middle;\n",
       "    }\n",
       "\n",
       "    .dataframe tbody tr th {\n",
       "        vertical-align: top;\n",
       "    }\n",
       "\n",
       "    .dataframe thead th {\n",
       "        text-align: right;\n",
       "    }\n",
       "</style>\n",
       "<table border=\"1\" class=\"dataframe\">\n",
       "  <thead>\n",
       "    <tr style=\"text-align: right;\">\n",
       "      <th></th>\n",
       "      <th>RI</th>\n",
       "      <th>Na</th>\n",
       "      <th>Mg</th>\n",
       "      <th>Al</th>\n",
       "      <th>Si</th>\n",
       "      <th>K</th>\n",
       "      <th>Ca</th>\n",
       "      <th>Ba</th>\n",
       "      <th>Fe</th>\n",
       "    </tr>\n",
       "  </thead>\n",
       "  <tbody>\n",
       "    <tr>\n",
       "      <th>35</th>\n",
       "      <td>1.51567</td>\n",
       "      <td>13.29</td>\n",
       "      <td>3.45</td>\n",
       "      <td>1.21</td>\n",
       "      <td>72.74</td>\n",
       "      <td>0.56</td>\n",
       "      <td>8.57</td>\n",
       "      <td>0.00</td>\n",
       "      <td>0.00</td>\n",
       "    </tr>\n",
       "    <tr>\n",
       "      <th>28</th>\n",
       "      <td>1.51768</td>\n",
       "      <td>12.56</td>\n",
       "      <td>3.52</td>\n",
       "      <td>1.43</td>\n",
       "      <td>73.15</td>\n",
       "      <td>0.57</td>\n",
       "      <td>8.54</td>\n",
       "      <td>0.00</td>\n",
       "      <td>0.00</td>\n",
       "    </tr>\n",
       "    <tr>\n",
       "      <th>42</th>\n",
       "      <td>1.51779</td>\n",
       "      <td>13.21</td>\n",
       "      <td>3.39</td>\n",
       "      <td>1.33</td>\n",
       "      <td>72.76</td>\n",
       "      <td>0.59</td>\n",
       "      <td>8.59</td>\n",
       "      <td>0.00</td>\n",
       "      <td>0.00</td>\n",
       "    </tr>\n",
       "    <tr>\n",
       "      <th>82</th>\n",
       "      <td>1.51646</td>\n",
       "      <td>13.41</td>\n",
       "      <td>3.55</td>\n",
       "      <td>1.25</td>\n",
       "      <td>72.81</td>\n",
       "      <td>0.68</td>\n",
       "      <td>8.10</td>\n",
       "      <td>0.00</td>\n",
       "      <td>0.00</td>\n",
       "    </tr>\n",
       "    <tr>\n",
       "      <th>100</th>\n",
       "      <td>1.51655</td>\n",
       "      <td>12.75</td>\n",
       "      <td>2.85</td>\n",
       "      <td>1.44</td>\n",
       "      <td>73.27</td>\n",
       "      <td>0.57</td>\n",
       "      <td>8.79</td>\n",
       "      <td>0.11</td>\n",
       "      <td>0.22</td>\n",
       "    </tr>\n",
       "  </tbody>\n",
       "</table>\n",
       "</div>"
      ],
      "text/plain": [
       "          RI     Na    Mg    Al     Si     K    Ca    Ba    Fe\n",
       "35   1.51567  13.29  3.45  1.21  72.74  0.56  8.57  0.00  0.00\n",
       "28   1.51768  12.56  3.52  1.43  73.15  0.57  8.54  0.00  0.00\n",
       "42   1.51779  13.21  3.39  1.33  72.76  0.59  8.59  0.00  0.00\n",
       "82   1.51646  13.41  3.55  1.25  72.81  0.68  8.10  0.00  0.00\n",
       "100  1.51655  12.75  2.85  1.44  73.27  0.57  8.79  0.11  0.22"
      ]
     },
     "execution_count": 31,
     "metadata": {},
     "output_type": "execute_result"
    }
   ],
   "source": [
    "glass_train.head()"
   ]
  },
  {
   "cell_type": "markdown",
   "metadata": {},
   "source": [
    "### Perceptron"
   ]
  },
  {
   "cell_type": "code",
   "execution_count": 12,
   "metadata": {},
   "outputs": [],
   "source": [
    "perceptron = Perceptron(penalty='elasticnet', random_state=42)"
   ]
  },
  {
   "cell_type": "code",
   "execution_count": 13,
   "metadata": {},
   "outputs": [],
   "source": [
    "parameters = {'max_iter':[50, 100, 500, 1000, 2000, 3000], 'class_weight':['balanced', None], 'alpha':[0.00001, 0.0001, 0.001, 0.01, 0.1, 1]}"
   ]
  },
  {
   "cell_type": "code",
   "execution_count": 14,
   "metadata": {},
   "outputs": [],
   "source": [
    "clf = GridSearchCV(perceptron, parameters, cv=10)"
   ]
  },
  {
   "cell_type": "markdown",
   "metadata": {},
   "source": [
    "Treino e resultados para o dataset iris"
   ]
  },
  {
   "cell_type": "code",
   "execution_count": 15,
   "metadata": {},
   "outputs": [],
   "source": [
    "results = clf.fit(iris_train, iris_species_train)"
   ]
  },
  {
   "cell_type": "code",
   "execution_count": 16,
   "metadata": {},
   "outputs": [
    {
     "data": {
      "text/plain": [
       "{'alpha': 1e-05, 'class_weight': None, 'max_iter': 50}"
      ]
     },
     "execution_count": 16,
     "metadata": {},
     "output_type": "execute_result"
    }
   ],
   "source": [
    "results.best_params_"
   ]
  },
  {
   "cell_type": "code",
   "execution_count": 17,
   "metadata": {},
   "outputs": [],
   "source": [
    "perceptron = Perceptron(penalty='elasticnet', random_state=42, max_iter=50, class_weight=None, alpha=0.00001)"
   ]
  },
  {
   "cell_type": "code",
   "execution_count": 18,
   "metadata": {},
   "outputs": [
    {
     "data": {
      "text/plain": [
       "Perceptron(alpha=1e-05, class_weight=None, early_stopping=False, eta0=1.0,\n",
       "      fit_intercept=True, max_iter=50, n_iter=None, n_iter_no_change=5,\n",
       "      n_jobs=None, penalty='elasticnet', random_state=42, shuffle=True,\n",
       "      tol=None, validation_fraction=0.1, verbose=0, warm_start=False)"
      ]
     },
     "execution_count": 18,
     "metadata": {},
     "output_type": "execute_result"
    }
   ],
   "source": [
    "perceptron.fit(iris_train, iris_species_train)"
   ]
  },
  {
   "cell_type": "code",
   "execution_count": 19,
   "metadata": {},
   "outputs": [],
   "source": [
    "def get_scores(model, x, y):\n",
    "    y_pred = model.predict(x)\n",
    "    return (accuracy_score(y, y_pred), \n",
    "            precision_score(y, y_pred, pos_label=3, average='macro'), \n",
    "            recall_score(y, y_pred, pos_label=3, average='macro'),\n",
    "            f1_score(y, y_pred, pos_label=3, average='macro'))\n",
    "            "
   ]
  },
  {
   "cell_type": "markdown",
   "metadata": {},
   "source": [
    "Perceptron + Iris"
   ]
  },
  {
   "cell_type": "code",
   "execution_count": 20,
   "metadata": {},
   "outputs": [
    {
     "name": "stdout",
     "output_type": "stream",
     "text": [
      "Accuracy = 0.70\n",
      "Precision = 0.48\n",
      "Recall = 0.67\n",
      "F1 = 0.55\n"
     ]
    }
   ],
   "source": [
    "scores_dict = dict(zip(['Accuracy', 'Precision', 'Recall', 'F1'], get_scores(perceptron, iris_test, iris_species_test)))\n",
    "for name in scores_dict: print(name + ' = %.2f' % scores_dict[name])"
   ]
  },
  {
   "cell_type": "code",
   "execution_count": 32,
   "metadata": {},
   "outputs": [],
   "source": [
    "perceptron = Perceptron(penalty='elasticnet', random_state=42)\n",
    "parameters = {'max_iter':[50, 100, 500, 1000, 2000, 3000], 'class_weight':['balanced', None], 'alpha':[0.00001, 0.0001, 0.001, 0.01, 0.1, 1]}\n",
    "clf = GridSearchCV(perceptron, parameters, cv=10)\n",
    "results = clf.fit(glass_train, glass_type_train)"
   ]
  },
  {
   "cell_type": "code",
   "execution_count": 33,
   "metadata": {},
   "outputs": [
    {
     "data": {
      "text/plain": [
       "{'alpha': 1e-05, 'class_weight': None, 'max_iter': 100}"
      ]
     },
     "execution_count": 33,
     "metadata": {},
     "output_type": "execute_result"
    }
   ],
   "source": [
    "results.best_params_"
   ]
  },
  {
   "cell_type": "markdown",
   "metadata": {},
   "source": [
    "Perceptron + Glass"
   ]
  },
  {
   "cell_type": "code",
   "execution_count": 34,
   "metadata": {},
   "outputs": [
    {
     "name": "stdout",
     "output_type": "stream",
     "text": [
      "Accuracy = 0.07\n",
      "Precision = 0.18\n",
      "Recall = 0.19\n",
      "F1 = 0.07\n"
     ]
    }
   ],
   "source": [
    "perceptron = Perceptron(penalty='elasticnet', random_state=42, max_iter=100, class_weight=None, alpha=0.00001)\n",
    "perceptron.fit(glass_train, glass_type_train)\n",
    "scores_dict = dict(zip(['Accuracy', 'Precision', 'Recall', 'F1'], get_scores(perceptron, glass_test, glass_type_test)))\n",
    "for name in scores_dict: print(name + ' = %.2f' % scores_dict[name])"
   ]
  },
  {
   "cell_type": "markdown",
   "metadata": {},
   "source": [
    "### MLP"
   ]
  },
  {
   "cell_type": "code",
   "execution_count": 35,
   "metadata": {},
   "outputs": [],
   "source": [
    "mlp = MLPClassifier(random_state=42)\n",
    "parameters = {'max_iter':[50, 100, 500, 1000, 2000], 'activation':['logistic', 'tanh', 'relu'], \n",
    "              'solver': ['sgd', 'adam'], 'hidden_layer_sizes': [(100, 1), (100, 2), (100, 3)],\n",
    "              'learning_rate': ['constant', 'invscaling', 'adaptive']}\n",
    "clf = GridSearchCV(mlp, parameters, cv=10)\n",
    "results = clf.fit(iris_train, iris_species_train)"
   ]
  },
  {
   "cell_type": "code",
   "execution_count": 36,
   "metadata": {},
   "outputs": [
    {
     "data": {
      "text/plain": [
       "{'activation': 'logistic',\n",
       " 'hidden_layer_sizes': (100, 3),\n",
       " 'learning_rate': 'constant',\n",
       " 'max_iter': 500,\n",
       " 'solver': 'adam'}"
      ]
     },
     "execution_count": 36,
     "metadata": {},
     "output_type": "execute_result"
    }
   ],
   "source": [
    "results.best_params_"
   ]
  },
  {
   "cell_type": "markdown",
   "metadata": {},
   "source": [
    "MLP + Iris"
   ]
  },
  {
   "cell_type": "code",
   "execution_count": 70,
   "metadata": {},
   "outputs": [
    {
     "name": "stdout",
     "output_type": "stream",
     "text": [
      "Accuracy = 1.00\n",
      "Precision = 1.00\n",
      "Recall = 1.00\n",
      "F1 = 1.00\n"
     ]
    }
   ],
   "source": [
    "mlp = MLPClassifier(random_state=42, activation='logistic', hidden_layer_sizes=(100, 3), learning_rate='constant', max_iter=500, solver='adam')\n",
    "mlp.fit(iris_train, iris_species_train)\n",
    "scores_dict = dict(zip(['Accuracy', 'Precision', 'Recall', 'F1'], get_scores(mlp, iris_test, iris_species_test)))\n",
    "for name in scores_dict: print(name + ' = %.2f' % scores_dict[name])"
   ]
  },
  {
   "cell_type": "code",
   "execution_count": 72,
   "metadata": {},
   "outputs": [],
   "source": [
    "mlp = MLPClassifier(random_state=42)\n",
    "parameters = {'max_iter':[50, 100, 500, 1000, 2000], 'activation':['logistic', 'tanh', 'relu'], \n",
    "              'solver': ['sgd', 'adam'], 'hidden_layer_sizes': [(100, 1), (100, 2), (100, 3)],\n",
    "              'learning_rate': ['constant', 'invscaling', 'adaptive']}\n",
    "clf = GridSearchCV(mlp, parameters, cv=10)\n",
    "results = clf.fit(glass_train, glass_type_train)"
   ]
  },
  {
   "cell_type": "code",
   "execution_count": 73,
   "metadata": {},
   "outputs": [
    {
     "data": {
      "text/plain": [
       "{'activation': 'tanh',\n",
       " 'hidden_layer_sizes': (100, 3),\n",
       " 'learning_rate': 'constant',\n",
       " 'max_iter': 1000,\n",
       " 'solver': 'adam'}"
      ]
     },
     "execution_count": 73,
     "metadata": {},
     "output_type": "execute_result"
    }
   ],
   "source": [
    "results.best_params_"
   ]
  },
  {
   "cell_type": "markdown",
   "metadata": {},
   "source": [
    "MLP + glass"
   ]
  },
  {
   "cell_type": "code",
   "execution_count": 75,
   "metadata": {},
   "outputs": [
    {
     "name": "stdout",
     "output_type": "stream",
     "text": [
      "Accuracy = 0.62\n",
      "Precision = 0.55\n",
      "Recall = 0.53\n",
      "F1 = 0.54\n"
     ]
    }
   ],
   "source": [
    "mlp = MLPClassifier(random_state=42, activation='tanh', hidden_layer_sizes=(100, 3), learning_rate='constant', max_iter=1000, solver='adam')\n",
    "mlp.fit(glass_train, glass_type_train)\n",
    "scores_dict = dict(zip(['Accuracy', 'Precision', 'Recall', 'F1'], get_scores(mlp, glass_test, glass_type_test)))\n",
    "for name in scores_dict: print(name + ' = %.2f' % scores_dict[name])"
   ]
  },
  {
   "cell_type": "markdown",
   "metadata": {},
   "source": [
    "### SVM"
   ]
  },
  {
   "cell_type": "markdown",
   "metadata": {},
   "source": [
    "### Iris"
   ]
  },
  {
   "cell_type": "markdown",
   "metadata": {},
   "source": [
    "Kernel linear One-Versus-One"
   ]
  },
  {
   "cell_type": "code",
   "execution_count": 76,
   "metadata": {},
   "outputs": [
    {
     "name": "stdout",
     "output_type": "stream",
     "text": [
      "{'C': 1}\n"
     ]
    }
   ],
   "source": [
    "svc = SVC(random_state=42, kernel='linear', decision_function_shape='ovo')\n",
    "parameters = {'C':[0.0001, 0.001, 0.1, 1, 2, 4]}\n",
    "clf = GridSearchCV(svc, parameters, cv=10)\n",
    "results = clf.fit(iris_train, iris_species_train)\n",
    "print(results.best_params_)"
   ]
  },
  {
   "cell_type": "code",
   "execution_count": 77,
   "metadata": {},
   "outputs": [
    {
     "name": "stdout",
     "output_type": "stream",
     "text": [
      "Accuracy = 1.00\n",
      "Precision = 1.00\n",
      "Recall = 1.00\n",
      "F1 = 1.00\n"
     ]
    }
   ],
   "source": [
    "svc = SVC(random_state=42, decision_function_shape='ovo', kernel='linear', C=1)\n",
    "svc.fit(iris_train, iris_species_train)\n",
    "scores_dict = dict(zip(['Accuracy', 'Precision', 'Recall', 'F1'], get_scores(svc, iris_test, iris_species_test)))\n",
    "for name in scores_dict: print(name + ' = %.2f' % scores_dict[name])"
   ]
  },
  {
   "cell_type": "markdown",
   "metadata": {},
   "source": [
    "Kernel linear One-Versus-Rest"
   ]
  },
  {
   "cell_type": "code",
   "execution_count": 78,
   "metadata": {},
   "outputs": [
    {
     "name": "stdout",
     "output_type": "stream",
     "text": [
      "{'C': 1}\n"
     ]
    }
   ],
   "source": [
    "svc = SVC(random_state=42, kernel='linear', decision_function_shape='ovr')\n",
    "parameters = {'C':[0.0001, 0.001, 0.1, 1, 2, 4]}\n",
    "clf = GridSearchCV(svc, parameters, cv=10)\n",
    "results = clf.fit(iris_train, iris_species_train)\n",
    "print(results.best_params_)"
   ]
  },
  {
   "cell_type": "code",
   "execution_count": 79,
   "metadata": {},
   "outputs": [
    {
     "name": "stdout",
     "output_type": "stream",
     "text": [
      "Accuracy = 1.00\n",
      "Precision = 1.00\n",
      "Recall = 1.00\n",
      "F1 = 1.00\n"
     ]
    }
   ],
   "source": [
    "svc = SVC(random_state=42, decision_function_shape='ovr', kernel='linear', C=1)\n",
    "svc.fit(iris_train, iris_species_train)\n",
    "scores_dict = dict(zip(['Accuracy', 'Precision', 'Recall', 'F1'], get_scores(svc, iris_test, iris_species_test)))\n",
    "for name in scores_dict: print(name + ' = %.2f' % scores_dict[name])"
   ]
  },
  {
   "cell_type": "markdown",
   "metadata": {},
   "source": [
    "Kernel RBF One-Versus-One"
   ]
  },
  {
   "cell_type": "code",
   "execution_count": 80,
   "metadata": {},
   "outputs": [
    {
     "name": "stdout",
     "output_type": "stream",
     "text": [
      "{'C': 4}\n"
     ]
    }
   ],
   "source": [
    "svc = SVC(random_state=42, kernel='rbf', decision_function_shape='ovo')\n",
    "parameters = {'C':[0.0001, 0.001, 0.1, 1, 2, 4, 8]}\n",
    "clf = GridSearchCV(svc, parameters, cv=10)\n",
    "results = clf.fit(iris_train, iris_species_train)\n",
    "print(results.best_params_)"
   ]
  },
  {
   "cell_type": "code",
   "execution_count": 81,
   "metadata": {},
   "outputs": [
    {
     "name": "stdout",
     "output_type": "stream",
     "text": [
      "Accuracy = 1.00\n",
      "Precision = 1.00\n",
      "Recall = 1.00\n",
      "F1 = 1.00\n"
     ]
    }
   ],
   "source": [
    "svc = SVC(random_state=42, decision_function_shape='ovo', kernel='rbf', C=4)\n",
    "svc.fit(iris_train, iris_species_train)\n",
    "scores_dict = dict(zip(['Accuracy', 'Precision', 'Recall', 'F1'], get_scores(svc, iris_test, iris_species_test)))\n",
    "for name in scores_dict: print(name + ' = %.2f' % scores_dict[name])"
   ]
  },
  {
   "cell_type": "markdown",
   "metadata": {},
   "source": [
    "Kernel RBF One-Versus-Rest"
   ]
  },
  {
   "cell_type": "code",
   "execution_count": 82,
   "metadata": {},
   "outputs": [
    {
     "name": "stdout",
     "output_type": "stream",
     "text": [
      "{'C': 4}\n"
     ]
    }
   ],
   "source": [
    "svc = SVC(random_state=42, kernel='rbf', decision_function_shape='ovr')\n",
    "parameters = {'C':[0.0001, 0.001, 0.1, 1, 2, 4, 8]}\n",
    "clf = GridSearchCV(svc, parameters, cv=10)\n",
    "results = clf.fit(iris_train, iris_species_train)\n",
    "print(results.best_params_)"
   ]
  },
  {
   "cell_type": "code",
   "execution_count": 83,
   "metadata": {},
   "outputs": [
    {
     "name": "stdout",
     "output_type": "stream",
     "text": [
      "Accuracy = 1.00\n",
      "Precision = 1.00\n",
      "Recall = 1.00\n",
      "F1 = 1.00\n"
     ]
    }
   ],
   "source": [
    "svc = SVC(random_state=42, decision_function_shape='ovr', kernel='rbf', C=4)\n",
    "svc.fit(iris_train, iris_species_train)\n",
    "scores_dict = dict(zip(['Accuracy', 'Precision', 'Recall', 'F1'], get_scores(svc, iris_test, iris_species_test)))\n",
    "for name in scores_dict: print(name + ' = %.2f' % scores_dict[name])"
   ]
  },
  {
   "cell_type": "markdown",
   "metadata": {},
   "source": [
    "Kernel Polynomial One-Versus-One"
   ]
  },
  {
   "cell_type": "code",
   "execution_count": 84,
   "metadata": {},
   "outputs": [
    {
     "name": "stdout",
     "output_type": "stream",
     "text": [
      "{'C': 1}\n"
     ]
    }
   ],
   "source": [
    "svc = SVC(random_state=42, kernel='poly', decision_function_shape='ovo')\n",
    "parameters = {'C':[0.0001, 0.001, 0.1, 1, 2, 4, 8, 16, 32, 64, 72]}\n",
    "clf = GridSearchCV(svc, parameters, cv=10)\n",
    "results = clf.fit(iris_train, iris_species_train)\n",
    "print(results.best_params_)"
   ]
  },
  {
   "cell_type": "code",
   "execution_count": 85,
   "metadata": {},
   "outputs": [
    {
     "name": "stdout",
     "output_type": "stream",
     "text": [
      "Accuracy = 0.98\n",
      "Precision = 0.98\n",
      "Recall = 0.98\n",
      "F1 = 0.98\n"
     ]
    }
   ],
   "source": [
    "svc = SVC(random_state=42, decision_function_shape='ovo', kernel='poly', C=1)\n",
    "svc.fit(iris_train, iris_species_train)\n",
    "scores_dict = dict(zip(['Accuracy', 'Precision', 'Recall', 'F1'], get_scores(svc, iris_test, iris_species_test)))\n",
    "for name in scores_dict: print(name + ' = %.2f' % scores_dict[name])"
   ]
  },
  {
   "cell_type": "markdown",
   "metadata": {},
   "source": [
    "Kernel Polynomial One-Versus-Rest"
   ]
  },
  {
   "cell_type": "code",
   "execution_count": 86,
   "metadata": {},
   "outputs": [
    {
     "name": "stdout",
     "output_type": "stream",
     "text": [
      "{'C': 1}\n"
     ]
    }
   ],
   "source": [
    "svc = SVC(random_state=42, kernel='poly', decision_function_shape='ovr')\n",
    "parameters = {'C':[0.0001, 0.001, 0.1, 1, 2, 4, 8, 16, 32, 64, 72]}\n",
    "clf = GridSearchCV(svc, parameters, cv=10)\n",
    "results = clf.fit(iris_train, iris_species_train)\n",
    "print(results.best_params_)"
   ]
  },
  {
   "cell_type": "code",
   "execution_count": 87,
   "metadata": {},
   "outputs": [
    {
     "name": "stdout",
     "output_type": "stream",
     "text": [
      "Accuracy = 0.98\n",
      "Precision = 0.98\n",
      "Recall = 0.98\n",
      "F1 = 0.98\n"
     ]
    }
   ],
   "source": [
    "svc = SVC(random_state=42, decision_function_shape='ovr', kernel='poly', C=1)\n",
    "svc.fit(iris_train, iris_species_train)\n",
    "scores_dict = dict(zip(['Accuracy', 'Precision', 'Recall', 'F1'], get_scores(svc, iris_test, iris_species_test)))\n",
    "for name in scores_dict: print(name + ' = %.2f' % scores_dict[name])"
   ]
  },
  {
   "cell_type": "markdown",
   "metadata": {},
   "source": [
    "### Glass"
   ]
  },
  {
   "cell_type": "markdown",
   "metadata": {},
   "source": [
    "Kernel linear One-Versus-One"
   ]
  },
  {
   "cell_type": "code",
   "execution_count": 91,
   "metadata": {},
   "outputs": [
    {
     "name": "stdout",
     "output_type": "stream",
     "text": [
      "{'C': 8}\n"
     ]
    }
   ],
   "source": [
    "svc = SVC(random_state=42, kernel='linear', decision_function_shape='ovo')\n",
    "parameters = {'C':[0.0001, 0.001, 0.1, 1, 2, 4, 8, 16]}\n",
    "clf = GridSearchCV(svc, parameters, cv=10)\n",
    "results = clf.fit(glass_train, glass_type_train)\n",
    "print(results.best_params_)"
   ]
  },
  {
   "cell_type": "code",
   "execution_count": 92,
   "metadata": {},
   "outputs": [
    {
     "name": "stdout",
     "output_type": "stream",
     "text": [
      "Accuracy = 0.69\n",
      "Precision = 0.61\n",
      "Recall = 0.60\n",
      "F1 = 0.60\n"
     ]
    }
   ],
   "source": [
    "svc = SVC(random_state=42, decision_function_shape='ovo', kernel='linear', C=8)\n",
    "svc.fit(glass_train, glass_type_train)\n",
    "scores_dict = dict(zip(['Accuracy', 'Precision', 'Recall', 'F1'], get_scores(svc, glass_test, glass_type_test)))\n",
    "for name in scores_dict: print(name + ' = %.2f' % scores_dict[name])"
   ]
  },
  {
   "cell_type": "markdown",
   "metadata": {},
   "source": [
    "Kernel linear One-Versus-Rest"
   ]
  },
  {
   "cell_type": "code",
   "execution_count": 94,
   "metadata": {},
   "outputs": [
    {
     "name": "stdout",
     "output_type": "stream",
     "text": [
      "{'C': 8}\n"
     ]
    }
   ],
   "source": [
    "svc = SVC(random_state=42, kernel='linear', decision_function_shape='ovr')\n",
    "parameters = {'C':[0.0001, 0.001, 0.1, 1, 2, 4, 8, 16]}\n",
    "clf = GridSearchCV(svc, parameters, cv=10)\n",
    "results = clf.fit(glass_train, glass_type_train)\n",
    "print(results.best_params_)"
   ]
  },
  {
   "cell_type": "code",
   "execution_count": 95,
   "metadata": {},
   "outputs": [
    {
     "name": "stdout",
     "output_type": "stream",
     "text": [
      "Accuracy = 0.69\n",
      "Precision = 0.61\n",
      "Recall = 0.60\n",
      "F1 = 0.60\n"
     ]
    }
   ],
   "source": [
    "svc = SVC(random_state=42, decision_function_shape='ovr', kernel='linear', C=8)\n",
    "svc.fit(glass_train, glass_type_train)\n",
    "scores_dict = dict(zip(['Accuracy', 'Precision', 'Recall', 'F1'], get_scores(svc, glass_test, glass_type_test)))\n",
    "for name in scores_dict: print(name + ' = %.2f' % scores_dict[name])"
   ]
  },
  {
   "cell_type": "markdown",
   "metadata": {},
   "source": [
    "Kernel RBF One-Versus-One"
   ]
  },
  {
   "cell_type": "code",
   "execution_count": 97,
   "metadata": {},
   "outputs": [
    {
     "name": "stdout",
     "output_type": "stream",
     "text": [
      "{'C': 8}\n"
     ]
    }
   ],
   "source": [
    "svc = SVC(random_state=42, kernel='rbf', decision_function_shape='ovo')\n",
    "parameters = {'C':[0.0001, 0.001, 0.1, 1, 2, 4, 8, 16]}\n",
    "clf = GridSearchCV(svc, parameters, cv=10)\n",
    "results = clf.fit(glass_train, glass_type_train)\n",
    "print(results.best_params_)"
   ]
  },
  {
   "cell_type": "code",
   "execution_count": 98,
   "metadata": {},
   "outputs": [
    {
     "name": "stdout",
     "output_type": "stream",
     "text": [
      "Accuracy = 0.69\n",
      "Precision = 0.60\n",
      "Recall = 0.59\n",
      "F1 = 0.59\n"
     ]
    }
   ],
   "source": [
    "svc = SVC(random_state=42, decision_function_shape='ovo', kernel='rbf', C=8)\n",
    "svc.fit(glass_train, glass_type_train)\n",
    "scores_dict = dict(zip(['Accuracy', 'Precision', 'Recall', 'F1'], get_scores(svc, glass_test, glass_type_test)))\n",
    "for name in scores_dict: print(name + ' = %.2f' % scores_dict[name])"
   ]
  },
  {
   "cell_type": "markdown",
   "metadata": {},
   "source": [
    "Kernel RBF One-Versus-Rest"
   ]
  },
  {
   "cell_type": "code",
   "execution_count": 99,
   "metadata": {},
   "outputs": [
    {
     "name": "stdout",
     "output_type": "stream",
     "text": [
      "{'C': 8}\n"
     ]
    }
   ],
   "source": [
    "svc = SVC(random_state=42, kernel='rbf', decision_function_shape='ovr')\n",
    "parameters = {'C':[0.0001, 0.001, 0.1, 1, 2, 4, 8, 16]}\n",
    "clf = GridSearchCV(svc, parameters, cv=10)\n",
    "results = clf.fit(glass_train, glass_type_train)\n",
    "print(results.best_params_)"
   ]
  },
  {
   "cell_type": "code",
   "execution_count": 100,
   "metadata": {},
   "outputs": [
    {
     "name": "stdout",
     "output_type": "stream",
     "text": [
      "Accuracy = 0.69\n",
      "Precision = 0.60\n",
      "Recall = 0.59\n",
      "F1 = 0.59\n"
     ]
    }
   ],
   "source": [
    "svc = SVC(random_state=42, decision_function_shape='ovr', kernel='rbf', C=8)\n",
    "svc.fit(glass_train, glass_type_train)\n",
    "scores_dict = dict(zip(['Accuracy', 'Precision', 'Recall', 'F1'], get_scores(svc, glass_test, glass_type_test)))\n",
    "for name in scores_dict: print(name + ' = %.2f' % scores_dict[name])"
   ]
  },
  {
   "cell_type": "markdown",
   "metadata": {},
   "source": [
    "Kernel Polynomial One-Versus-One"
   ]
  },
  {
   "cell_type": "code",
   "execution_count": 106,
   "metadata": {},
   "outputs": [
    {
     "name": "stdout",
     "output_type": "stream",
     "text": [
      "{'C': 16}\n"
     ]
    }
   ],
   "source": [
    "svc = SVC(random_state=42, kernel='poly', decision_function_shape='ovo')\n",
    "parameters = {'C':[0.0001, 0.001, 0.1, 1, 2, 4, 8, 16, 32]}\n",
    "clf = GridSearchCV(svc, parameters, cv=10)\n",
    "results = clf.fit(glass_train, glass_type_train)\n",
    "print(results.best_params_)"
   ]
  },
  {
   "cell_type": "code",
   "execution_count": 107,
   "metadata": {},
   "outputs": [
    {
     "name": "stdout",
     "output_type": "stream",
     "text": [
      "Accuracy = 0.66\n",
      "Precision = 0.62\n",
      "Recall = 0.64\n",
      "F1 = 0.62\n"
     ]
    }
   ],
   "source": [
    "svc = SVC(random_state=42, decision_function_shape='ovo', kernel='poly', C=16)\n",
    "svc.fit(glass_train, glass_type_train)\n",
    "scores_dict = dict(zip(['Accuracy', 'Precision', 'Recall', 'F1'], get_scores(svc, glass_test, glass_type_test)))\n",
    "for name in scores_dict: print(name + ' = %.2f' % scores_dict[name])"
   ]
  },
  {
   "cell_type": "markdown",
   "metadata": {},
   "source": [
    "Kernel Polynomial One-Versus-Rest"
   ]
  },
  {
   "cell_type": "code",
   "execution_count": 108,
   "metadata": {},
   "outputs": [
    {
     "name": "stdout",
     "output_type": "stream",
     "text": [
      "{'C': 16}\n"
     ]
    }
   ],
   "source": [
    "svc = SVC(random_state=42, kernel='poly', decision_function_shape='ovr')\n",
    "parameters = {'C':[0.0001, 0.001, 0.1, 1, 2, 4, 8, 16, 32]}\n",
    "clf = GridSearchCV(svc, parameters, cv=10)\n",
    "results = clf.fit(glass_train, glass_type_train)\n",
    "print(results.best_params_)"
   ]
  },
  {
   "cell_type": "code",
   "execution_count": null,
   "metadata": {},
   "outputs": [],
   "source": [
    "svc = SVC(random_state=42, decision_function_shape='ovr', kernel='poly', C=4242)\n",
    "svc.fit(glass_train, glass_type_train)\n",
    "scores_dict = dict(zip(['Accuracy', 'Precision', 'Recall', 'F1'], get_scores(svc, glass_test, glass_type_test)))\n",
    "for name in scores_dict: print(name + ' = %.2f' % scores_dict[name])"
   ]
  },
  {
   "cell_type": "code",
   "execution_count": null,
   "metadata": {},
   "outputs": [],
   "source": []
  }
 ],
 "metadata": {
  "kernelspec": {
   "display_name": "Python 3",
   "language": "python",
   "name": "python3"
  },
  "language_info": {
   "codemirror_mode": {
    "name": "ipython",
    "version": 3
   },
   "file_extension": ".py",
   "mimetype": "text/x-python",
   "name": "python",
   "nbconvert_exporter": "python",
   "pygments_lexer": "ipython3",
   "version": "3.7.3"
  }
 },
 "nbformat": 4,
 "nbformat_minor": 2
}
